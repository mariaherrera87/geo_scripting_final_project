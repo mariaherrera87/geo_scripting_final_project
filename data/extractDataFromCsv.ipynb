{
 "metadata": {
  "name": "",
  "signature": "sha256:5a7804e029d8dd3b23a8fa7d0719a11926c325e37465676abc596d0a03e34400"
 },
 "nbformat": 3,
 "nbformat_minor": 0,
 "worksheets": [
  {
   "cells": [
    {
     "cell_type": "code",
     "collapsed": false,
     "input": [
      "# -*- coding: utf-8 -*-\n",
      "\"\"\"\n",
      "Created on Tue Jan 26 13:50:12 2016\n",
      "teamname:Maya\n",
      "@author: Yi Maria\n",
      "\n",
      "---Statement---\n",
      "The original files are excel file,we save it to csv format, in order to extract \n",
      "and arrange the necenssary data.\n",
      "Those excel files are from Ecuadorian government \n",
      "Download:\n",
      "   census of 2010:http://redatam.inec.gob.ec/cgibin/RpWebEngine.exe/PortalAction?&MODE=MAIN&BASE=CPV2010&MAIN=WebServerMain.inl\n",
      "   census of 2001: http://redatam.inec.gob.ec/cgibin/RpWebEngine.exe/PortalAction?&MODE=MAIN&BASE=CPV2001&MAIN=WebServerMain.inl\n",
      "\"\"\"\n",
      "import re\n",
      "import csv\n",
      "\n"
     ],
     "language": "python",
     "metadata": {},
     "outputs": [],
     "prompt_number": 3
    },
    {
     "cell_type": "code",
     "collapsed": false,
     "input": [
      "def MatchProvince(csvLine):\n",
      "    ''' Find the province code from original data\n",
      "    \n",
      "    1 arg(str): one line of csv file \n",
      "    \n",
      "    2 Returns: Area code,Province name \n",
      "    '''\n",
      "    m = re.match(\"(AREA # )([0-9]*),([A-Z]*.*).*,,\", csvLine)\n",
      "    if m != None:\n",
      "        return m.group(2),m.group(3)"
     ],
     "language": "python",
     "metadata": {},
     "outputs": [],
     "prompt_number": 4
    },
    {
     "cell_type": "code",
     "collapsed": false,
     "input": [
      "def MatchTotal(csvLine):\n",
      "    ''' Find the population from original data\n",
      "    1 arg(str): one line of csv file\n",
      "    \n",
      "    1 return :population of a province\n",
      "    '''\n",
      "    m = re.match(\"(Total),([0-9]*),100,100\", csvLine)\n",
      "    if m != None:\n",
      "        return m.group(2)"
     ],
     "language": "python",
     "metadata": {},
     "outputs": [],
     "prompt_number": 5
    },
    {
     "cell_type": "code",
     "collapsed": false,
     "input": [
      "def readCSVtodic(filepath):\n",
      "    '''read information from csv census data\n",
      "    1 arg(str): file path of csv file\n",
      "    \n",
      "    1 return(dic): dictionary contains the code, province name and population information \n",
      "    '''\n",
      "    PopDic={}\n",
      "    ProName=\"\"\n",
      "    Total = 0\n",
      "    with open(filepath) as csvfile:\n",
      "        for data in csvfile: \n",
      "            csv = data.split('\\r')\n",
      "    for line in csv:\n",
      "        if MatchProvince(line) != None: \n",
      "            Code,ProName=MatchProvince(line)\n",
      "        if MatchTotal(line)!= None: \n",
      "            Total = MatchTotal(line)\n",
      "            mystring= ProName+','+Total\n",
      "            PopDic[Code]= mystring\n",
      "            Code = \"stop\"\n",
      "    return PopDic"
     ],
     "language": "python",
     "metadata": {},
     "outputs": [],
     "prompt_number": 6
    },
    {
     "cell_type": "code",
     "collapsed": false,
     "input": [
      "def exporttoCSV(censusdic,exportname,scheme):\n",
      "    '''export dictionary to a csv file, which can be read as dataframe in R\n",
      "    3 args: censusdic(dic)\n",
      "            exportname(str)\n",
      "            scheme(dic)\n",
      "            \n",
      "    return: None\n",
      "    '''\n",
      "    csvname ='/home/user/Desktop/geoscripting/finalProject/data/'+str(exportname)+\".csv\"\n",
      "    myCSV = open(csvname,'w')\n",
      "    title = \"DPA_PROVIN\"+ ',' +scheme[\"DPA_PROVIN\"]+'\\n'\n",
      "    myCSV.write(title)\n",
      "    for code in censusdic:\n",
      "        if code != \"stop\": \n",
      "            line = code + ',' + censusdic[code]+'\\n'\n",
      "            myCSV.write(line)\n",
      "    myCSV.close()"
     ],
     "language": "python",
     "metadata": {},
     "outputs": [],
     "prompt_number": 7
    },
    {
     "cell_type": "code",
     "collapsed": false,
     "input": [
      "if __name__==\"__main__\":\n",
      "    scheme2001 ={\"DPA_PROVIN\":\"DPA_DESPRO,Population_2001\"}\n",
      "    scheme2010 ={\"DPA_PROVIN\":\"DPA_DESPRO,Population_2010\"}\n",
      "    census2001='/home/user/Desktop/geoscripting/finalProject/data/report2001.csv'\n",
      "    census2010='/home/user/Desktop/geoscripting/finalProject/data/reporte2010.csv'\n",
      "    dic2001 = readCSVtodic(census2001)\n",
      "    dic2010 = readCSVtodic(census2010)\n",
      "    csv2001 = \"census2001\"\n",
      "    csv2010 = \"census2010\"\n",
      "    exporttoCSV(dic2001,csv2001,scheme2001)\n",
      "    exporttoCSV(dic2010,csv2010,scheme2010)\n",
      "    "
     ],
     "language": "python",
     "metadata": {},
     "outputs": [],
     "prompt_number": 9
    },
    {
     "cell_type": "code",
     "collapsed": false,
     "input": [],
     "language": "python",
     "metadata": {},
     "outputs": []
    }
   ],
   "metadata": {}
  }
 ]
}